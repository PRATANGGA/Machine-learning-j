{
 "cells": [
  {
   "cell_type": "code",
   "execution_count": 14,
   "metadata": {
    "id": "pekxkVjim2-O"
   },
   "outputs": [],
   "source": [
    "import os,zipfile"
   ]
  },
  {
   "cell_type": "code",
   "execution_count": 15,
   "metadata": {
    "id": "jfuNDFxVnAZ0"
   },
   "outputs": [],
   "source": [
    "#os.mkdir('dataset')\n",
    "dataset_dir = 'dataset'"
   ]
  },
  {
   "cell_type": "code",
   "execution_count": 16,
   "metadata": {
    "id": "9e0QisTYnNUZ"
   },
   "outputs": [],
   "source": [
    "target_file = 'pekerja-sejahtera.zip'"
   ]
  },
  {
   "cell_type": "code",
   "execution_count": 17,
   "metadata": {
    "id": "8U3mGjsunSGo"
   },
   "outputs": [],
   "source": [
    "extracting = zipfile.ZipFile(target_file, 'r')\n",
    "extracting.extractall(dataset_dir)\n",
    "extracting.close()"
   ]
  },
  {
   "cell_type": "code",
   "execution_count": 18,
   "metadata": {
    "id": "QkzKX2lJnTNe"
   },
   "outputs": [
    {
     "ename": "ModuleNotFoundError",
     "evalue": "No module named 'pandas'",
     "output_type": "error",
     "traceback": [
      "\u001b[1;31m---------------------------------------------------------------------------\u001b[0m",
      "\u001b[1;31mModuleNotFoundError\u001b[0m                       Traceback (most recent call last)",
      "Cell \u001b[1;32mIn[18], line 2\u001b[0m\n\u001b[0;32m      1\u001b[0m \u001b[38;5;28;01mimport\u001b[39;00m \u001b[38;5;21;01mnumpy\u001b[39;00m \u001b[38;5;28;01mas\u001b[39;00m \u001b[38;5;21;01mnp\u001b[39;00m\n\u001b[1;32m----> 2\u001b[0m \u001b[38;5;28;01mimport\u001b[39;00m \u001b[38;5;21;01mpandas\u001b[39;00m \u001b[38;5;28;01mas\u001b[39;00m \u001b[38;5;21;01mpd\u001b[39;00m\n\u001b[0;32m      3\u001b[0m \u001b[38;5;28;01mimport\u001b[39;00m \u001b[38;5;21;01mmatplotlib\u001b[39;00m\u001b[38;5;21;01m.\u001b[39;00m\u001b[38;5;21;01mpyplot\u001b[39;00m \u001b[38;5;28;01mas\u001b[39;00m \u001b[38;5;21;01mplt\u001b[39;00m\n\u001b[0;32m      4\u001b[0m \u001b[38;5;28;01mimport\u001b[39;00m \u001b[38;5;21;01mmatplotlib\u001b[39;00m\u001b[38;5;21;01m.\u001b[39;00m\u001b[38;5;21;01mticker\u001b[39;00m \u001b[38;5;28;01mas\u001b[39;00m \u001b[38;5;21;01mticker\u001b[39;00m\n",
      "\u001b[1;31mModuleNotFoundError\u001b[0m: No module named 'pandas'"
     ]
    }
   ],
   "source": [
    "import numpy as np\n",
    "import pandas as pd\n",
    "import matplotlib.pyplot as plt\n",
    "import matplotlib.ticker as ticker\n",
    "import seaborn as sns\n",
    "import warnings\n",
    "\n",
    "warnings.filterwarnings(\"ignore\")\n",
    "sns.set_theme(style=\"whitegrid\")\n",
    "\n",
    "gk = pd.read_csv(f'{dataset_dir}/gk.df.csv')\n",
    "upah = pd.read_csv(f'{dataset_dir}/upah.df.csv')\n",
    "pengeluaran = pd.read_csv(f'{dataset_dir}/peng.df.csv')\n",
    "ump = pd.read_csv(f'{dataset_dir}/ump.df.csv')"
   ]
  },
  {
   "cell_type": "code",
   "execution_count": null,
   "metadata": {
    "colab": {
     "base_uri": "https://localhost:8080/",
     "height": 206
    },
    "id": "WCovbOiUneTE",
    "outputId": "2778c5d0-1fcb-4956-8ca3-e6f0f2ec53a6"
   },
   "outputs": [],
   "source": [
    "# dataframe Garis Kemiskinan\n",
    "gk.head()"
   ]
  },
  {
   "cell_type": "code",
   "execution_count": null,
   "metadata": {
    "colab": {
     "base_uri": "https://localhost:8080/",
     "height": 206
    },
    "id": "DI_-L7QWnmsp",
    "outputId": "73bf38a0-bda8-4428-9bb7-dbb9bce5a9af"
   },
   "outputs": [],
   "source": [
    "# dataframe Upah per jam\n",
    "upah.head()"
   ]
  },
  {
   "cell_type": "code",
   "execution_count": null,
   "metadata": {
    "colab": {
     "base_uri": "https://localhost:8080/",
     "height": 206
    },
    "id": "Wh4BQvU3n0s6",
    "outputId": "2d46ebef-745e-4c4f-cef8-31bfeba40e09"
   },
   "outputs": [],
   "source": [
    "# dataframe Pengeluaran\n",
    "pengeluaran.head()"
   ]
  },
  {
   "cell_type": "code",
   "execution_count": null,
   "metadata": {
    "colab": {
     "base_uri": "https://localhost:8080/",
     "height": 206
    },
    "id": "U3eSn1W7n20D",
    "outputId": "dd6a5016-8fa3-4341-bcd9-dc408b917297"
   },
   "outputs": [],
   "source": [
    "#  dataframe UMP\n",
    "ump.head()"
   ]
  },
  {
   "cell_type": "code",
   "execution_count": null,
   "metadata": {
    "colab": {
     "base_uri": "https://localhost:8080/"
    },
    "id": "jHn-VXj3oC_0",
    "outputId": "906a9059-cd51-4a63-8486-d7e97c6b5056"
   },
   "outputs": [],
   "source": [
    "# DataFrame's shape\n",
    "print(\"Garis Kemiskinan: %d baris and %d kolom\" % gk.shape)\n",
    "print(\"Upah Per Jam: %d baris and %d kolom\" % upah.shape)\n",
    "print(\"Pengeluaran: %d baris and %d kolom\" % pengeluaran.shape)\n",
    "print(\"UMP: %d baris and %d kolom\" % ump.shape)"
   ]
  },
  {
   "cell_type": "code",
   "execution_count": null,
   "metadata": {
    "colab": {
     "base_uri": "https://localhost:8080/"
    },
    "id": "4YJBBC_EoORr",
    "outputId": "a4e1a40e-0e54-42e9-e664-2335c23366d5"
   },
   "outputs": [],
   "source": [
    "# nama kolom & tipe data DataFrame Garis Kemiskinan\n",
    "print(\"Kolom Garis Kemiskinan: \")\n",
    "print(gk.dtypes)"
   ]
  },
  {
   "cell_type": "code",
   "execution_count": null,
   "metadata": {
    "colab": {
     "base_uri": "https://localhost:8080/"
    },
    "id": "IpIjH6MjoQkl",
    "outputId": "017a9787-95e9-40ef-d8f4-380ca62b1213"
   },
   "outputs": [],
   "source": [
    "# nama kolom & tipe data DataFrame Upah per jam\n",
    "print(\"Kolom Upah per jam: \")\n",
    "print(upah.dtypes)\n"
   ]
  },
  {
   "cell_type": "code",
   "execution_count": null,
   "metadata": {
    "colab": {
     "base_uri": "https://localhost:8080/"
    },
    "id": "Nby3WKcvoSk0",
    "outputId": "72ec7524-f0fb-4f21-fe3d-f65f8345777c"
   },
   "outputs": [],
   "source": [
    "# nama kolom & tipe data DataFrame Pengeluaran\n",
    "print(\"Kolom Pengeluaran: \")\n",
    "print(pengeluaran.dtypes)\n"
   ]
  },
  {
   "cell_type": "code",
   "execution_count": null,
   "metadata": {
    "colab": {
     "base_uri": "https://localhost:8080/"
    },
    "id": "Q8jZ88kRoVJ0",
    "outputId": "59bc69f8-3f0f-4b94-a4ca-84b23773a4d0"
   },
   "outputs": [],
   "source": [
    "# nama kolom & tipe data DataFrame UMP\n",
    "print(\"Kolom UMP: \")\n",
    "print(ump.dtypes)"
   ]
  },
  {
   "cell_type": "code",
   "execution_count": null,
   "metadata": {
    "colab": {
     "base_uri": "https://localhost:8080/"
    },
    "id": "sGQ2tKIqoXP1",
    "outputId": "c3074693-6531-4cfa-9a44-ddec84530ef4"
   },
   "outputs": [],
   "source": [
    "# Cek missing values Garis Kemiskinan\n",
    "gk_mean_value = gk['gk'].mean()\n",
    "gk['gk'].fillna(value=gk_mean_value, inplace=True)\n",
    "print(gk.isnull().sum())"
   ]
  },
  {
   "cell_type": "code",
   "execution_count": null,
   "metadata": {
    "colab": {
     "base_uri": "https://localhost:8080/"
    },
    "id": "JAHAe4cnoZXE",
    "outputId": "e80dc2a3-0b24-4a19-dd20-dad57130a1a5"
   },
   "outputs": [],
   "source": [
    "# Cek missing values Upah per jam\n",
    "print(upah.isnull().sum())"
   ]
  },
  {
   "cell_type": "code",
   "execution_count": null,
   "metadata": {
    "colab": {
     "base_uri": "https://localhost:8080/"
    },
    "id": "gRcVTD6Gob1j",
    "outputId": "e4f496df-ac45-404e-f9b2-fbf00407a7e3"
   },
   "outputs": [],
   "source": [
    "# Cek missing values Pengeluaran\n",
    "peng_mean_value = pengeluaran['peng'].mean()\n",
    "pengeluaran['peng'].fillna(value=peng_mean_value, inplace=True)\n",
    "print(pengeluaran.isnull().sum())"
   ]
  },
  {
   "cell_type": "code",
   "execution_count": null,
   "metadata": {
    "colab": {
     "base_uri": "https://localhost:8080/"
    },
    "id": "IPBAZONFoeVS",
    "outputId": "6c530962-95c7-431e-bf40-53ea9041b709"
   },
   "outputs": [],
   "source": [
    "# Cek missing values UMP\n",
    "ump_mean_value = ump['ump'].mean()\n",
    "ump['ump'].fillna(value=ump_mean_value, inplace=True)\n",
    "print(ump.isnull().sum())"
   ]
  },
  {
   "cell_type": "code",
   "execution_count": null,
   "metadata": {
    "colab": {
     "base_uri": "https://localhost:8080/",
     "height": 300
    },
    "id": "EOjkvdFLohD1",
    "outputId": "c9bd9dd1-e540-42da-db2b-7ac7428b64e3"
   },
   "outputs": [],
   "source": [
    "# Dataset Statistical Summary: Garis Kemiskinan\n",
    "gk.describe()"
   ]
  },
  {
   "cell_type": "code",
   "execution_count": null,
   "metadata": {
    "colab": {
     "base_uri": "https://localhost:8080/",
     "height": 300
    },
    "id": "_aQ8rAaqonox",
    "outputId": "3e1a97d1-02a7-47ed-b47f-72713a4f076b"
   },
   "outputs": [],
   "source": [
    "# Dataset Statistical Summary: Upah per jam\n",
    "upah.describe()"
   ]
  },
  {
   "cell_type": "code",
   "execution_count": null,
   "metadata": {
    "colab": {
     "base_uri": "https://localhost:8080/",
     "height": 300
    },
    "id": "zL7L-L0_or_C",
    "outputId": "5aa80eb8-87f8-4906-98a2-ab4685f3445f"
   },
   "outputs": [],
   "source": [
    "# Dataset Statistical Summary: Pengeluaran\n",
    "pengeluaran.describe()"
   ]
  },
  {
   "cell_type": "code",
   "execution_count": null,
   "metadata": {
    "colab": {
     "base_uri": "https://localhost:8080/",
     "height": 300
    },
    "id": "bsJtHZRvouQA",
    "outputId": "5efe7f0a-f7e7-4372-9ff8-07615b44b4e2"
   },
   "outputs": [],
   "source": [
    "# Dataset Statistical Summary: UMP\n",
    "ump.describe()"
   ]
  },
  {
   "cell_type": "code",
   "execution_count": null,
   "metadata": {
    "colab": {
     "base_uri": "https://localhost:8080/",
     "height": 501
    },
    "id": "X_THVd4boxxA",
    "outputId": "f653a67e-cdde-4fec-ba0c-e7e1de59ffc2"
   },
   "outputs": [],
   "source": [
    "upah_2022 = upah[upah['tahun']==2022].copy()\n",
    "upah_sorted = upah_2022.sort_values(by='upah', ascending=True)\n",
    "# upah_sorted\n",
    "upah_tertinggi = upah_sorted[:5]\n",
    "upah_terendah = upah_sorted[-5:]\n",
    "\n",
    "# print(upah_tertinggi)\n",
    "# print(upah_terendah)\n",
    "\n",
    "plt.figure(figsize=(15, 5))\n",
    "\n",
    "# Bar plot untuk upah terendah\n",
    "plt.subplot(1, 2, 1)\n",
    "plt.barh(upah_tertinggi['provinsi'], upah_terendah['upah'], color='salmon')\n",
    "plt.title('Upah Terendah per Jam 2022')\n",
    "plt.xlabel('Upah per Jam')\n",
    "plt.ylabel('Provinsi')\n",
    "\n",
    "# Bar plot untuk upah tertinggi\n",
    "plt.subplot(1, 2, 2)\n",
    "plt.barh(upah_terendah['provinsi'], upah_tertinggi['upah'], color='skyblue')\n",
    "plt.title('Upah Tertinggi per Jam 2022')\n",
    "plt.xlabel('Upah per Jam')\n",
    "plt.ylabel('Provinsi')\n",
    "\n",
    "plt.tight_layout()\n",
    "plt.show()"
   ]
  },
  {
   "cell_type": "code",
   "execution_count": null,
   "metadata": {
    "colab": {
     "base_uri": "https://localhost:8080/",
     "height": 739
    },
    "id": "N8ZhG3muo0cy",
    "outputId": "95f64b43-5e02-41b5-8f2a-8767e3fcbe68"
   },
   "outputs": [],
   "source": [
    "provinsi = ['DKI JAKARTA','PAPUA BARAT','PAPUA','BANTEN','KEP.RIAU','GORONTALO','LAMPUNG','NUSA TENGGARA TIMUR','JAWA TENGAH','NUSA TENGGARA BARAT']\n",
    "ump_filtered = ump[ump['provinsi'].isin(provinsi)]\n",
    "print(ump_filtered)\n",
    "\n",
    "# line chart UMP dengan upah provinsi 5 tertinggi dan 5 terendah tahun 2022\n",
    "plt.figure(figsize=(12,5))\n",
    "sns.lineplot(x=\"tahun\", y=\"ump\", data=ump_filtered, hue='provinsi')\n",
    "plt.title('UMP 10 Provinsi (5 Upah Tertinggi dan 5 Upah Terendah)')\n",
    "plt.xlabel('Tahun')\n",
    "plt.ylabel('Upah Minimum Provinsi')\n",
    "\n",
    "# Mengatur format label tahun\n",
    "ax = plt.gca()\n",
    "formatter = ticker.ScalarFormatter()\n",
    "formatter.set_scientific(False)  # Menonaktifkan notasi ilmiah\n",
    "ax.yaxis.set_major_formatter(formatter)\n",
    "ax.xaxis.set_major_formatter(ticker.FormatStrFormatter('%d'))  # Format tahun tanpa desimal\n",
    "\n",
    "plt.grid(True)\n",
    "plt.show()"
   ]
  },
  {
   "cell_type": "code",
   "execution_count": null,
   "metadata": {
    "colab": {
     "base_uri": "https://localhost:8080/",
     "height": 480
    },
    "id": "vWSjVE0Io49s",
    "outputId": "01aa474c-5758-4a11-cdf1-bfc3bb051402"
   },
   "outputs": [],
   "source": [
    "upah_provinsi = upah[(upah['provinsi'] == 'INDONESIA') ]\n",
    "\n",
    "# line chart upah provinsi\n",
    "sns.lineplot(x=\"tahun\", y=\"upah\", data=upah_provinsi, hue='provinsi')\n",
    "plt.title('Tren Rata-rata Upah Pekerja per jam')\n",
    "plt.xlabel('Tahun')\n",
    "plt.ylabel('Upah Pekerja per jam')\n",
    "\n",
    "# Mengatur format label tahun\n",
    "ax = plt.gca()\n",
    "formatter = ticker.ScalarFormatter()\n",
    "formatter.set_scientific(False)  # Menonaktifkan notasi ilmiah\n",
    "ax.yaxis.set_major_formatter(formatter)\n",
    "ax.xaxis.set_major_formatter(ticker.FormatStrFormatter('%d'))  # Format tahun tanpa desimal\n",
    "\n",
    "plt.show()"
   ]
  },
  {
   "cell_type": "code",
   "execution_count": null,
   "metadata": {
    "colab": {
     "base_uri": "https://localhost:8080/"
    },
    "id": "baD7v06Ro9Ih",
    "outputId": "d167731c-49c4-4b2b-8f4a-3ebd2629e64d"
   },
   "outputs": [],
   "source": [
    "# Hitung korelasi Pearson\n",
    "correlation = pengeluaran['peng'].corr(gk['gk'])\n",
    "correlation"
   ]
  },
  {
   "cell_type": "code",
   "execution_count": null,
   "metadata": {
    "colab": {
     "base_uri": "https://localhost:8080/"
    },
    "id": "2_3Fxz34o_mw",
    "outputId": "d664d7bd-499e-48e2-b760-97de581869c6"
   },
   "outputs": [],
   "source": [
    "# Hitung korelasi Pearson\n",
    "correlation = ump['ump'].corr(upah['upah'])\n",
    "correlation"
   ]
  }
 ],
 "metadata": {
  "colab": {
   "provenance": []
  },
  "kernelspec": {
   "display_name": "Python 3 (ipykernel)",
   "language": "python",
   "name": "python3"
  },
  "language_info": {
   "codemirror_mode": {
    "name": "ipython",
    "version": 3
   },
   "file_extension": ".py",
   "mimetype": "text/x-python",
   "name": "python",
   "nbconvert_exporter": "python",
   "pygments_lexer": "ipython3",
   "version": "3.12.3"
  }
 },
 "nbformat": 4,
 "nbformat_minor": 4
}
